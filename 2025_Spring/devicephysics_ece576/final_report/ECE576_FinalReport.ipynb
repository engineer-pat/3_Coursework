{
  "nbformat": 4,
  "nbformat_minor": 0,
  "metadata": {
    "colab": {
      "provenance": []
    },
    "kernelspec": {
      "name": "python3",
      "display_name": "Python 3"
    },
    "language_info": {
      "name": "python"
    }
  },
  "cells": [
    {
      "cell_type": "markdown",
      "source": [
        "# HOW TO:\n",
        "\n",
        "I'll make this nicely formatted and we'll use latex for equations. But gotta use Markdown instead of Word lol so use this shit.\n",
        "\n",
        "The app is at:\n",
        "https://pat-trinity-ralph-carrier-propagation-devicephysics-unm.streamlit.app/\n",
        "\n",
        "First HW:\n",
        "https://unmm-my.sharepoint.com/:b:/g/personal/patf_unm_edu/EdPwrvA9gilBlsqV-0pneroB4cV5Le5a4Rko8gkGFlT20g?e=FOpUr4\n",
        "\n",
        "Inverse HW:\n",
        "https://unmm-my.sharepoint.com/:b:/g/personal/patf_unm_edu/EeKNPeE7Qh9Jjiiomi2U0ssBSQwVeU2TBain3nODg-DeGA?e=Z85d5s\n",
        "\n",
        "The derivation we did is at:\n",
        "https://unmm-my.sharepoint.com/:b:/g/personal/patf_unm_edu/EarwIWODmJZAjHsSOQDr-78BK0VHWSg9TQCeUIhuMp-KZg?e=bmbwn9\n"
      ],
      "metadata": {
        "id": "KjqqRKaLOnMr"
      }
    },
    {
      "cell_type": "markdown",
      "source": [
        "# TO DO as of 1146p on 14 May:\n",
        "- [ ] Proofread the math\n",
        "- [ ] Ensure accuracy of text explanations of intermediate steps\n",
        "- [ ] get rid of random periods in the equations lol\n",
        "- [ ] pat ensures Quarto template correctly adapted\n",
        "- [ ] pat plugs everything into Quarto"
      ],
      "metadata": {
        "id": "OppIaf81epaU"
      }
    },
    {
      "cell_type": "markdown",
      "source": [
        "---"
      ],
      "metadata": {
        "id": "E9VyUB3ZRxoi"
      }
    },
    {
      "cell_type": "markdown",
      "source": [
        "# Abstract\n",
        "The physics underlying semiconductor devices must be understood to effectively design new devices and experiments. While equations can be provided to model phenomena such as propagation of carriers through a channel or device, or the evolution of current in the device with time...\n"
      ],
      "metadata": {
        "id": "Uacx2lYSOj8-"
      }
    },
    {
      "cell_type": "markdown",
      "source": [
        "# Copied from HW1\n",
        "We start with Green's functions for the partial derivatives of electrons and holes as functions of space and time, $n(x,t)$ and $p(x,t)$.\n",
        "\n",
        "For electrons:\n",
        "$$\n",
        "\\frac{\\partial^2G_n(x,t)}{\\partial x^{2}}-\\left( \\frac{\\nu_{n}}{D_{n}}\\right)\\frac{\\partial G_n(x,t)}{\\partial x}+\\frac{1}{D_{n}}\\frac{\\partial G_n(x,t)}{\\partial t}+\\frac{1}{\\tau_{n}D_{n}}G_{n}(x,t)=\\frac{1}{Dn}\\delta(x-x_{0})\\delta(t-t_{0})\n",
        "$$\n",
        "\n",
        "# FIXME Definitely missed an opposite sign somwehwere for holes\n",
        "For holes:\n",
        "$$\n",
        "\\frac{\\partial^2G_p(x,t)}{\\partial x^{2}}-\\left( \\frac{\\nu_{p}}{D_{p}}\\right)\\frac{\\partial G_p(x,t)}{\\partial x}+\\frac{1}{D_{p}}\\frac{\\partial G_p(x,t)}{\\partial t}+\\frac{1}{\\tau_{p}D_{p}}G_{p}(x,t)=\\frac{1}{Dp}\\delta(x-x_{0})\\delta(t-t_{0})\n",
        "$$\n",
        "\n",
        "From there, Gn and Gp were plugged into the Green's equations:\n",
        "$$\n",
        "G_n = G_p = \\left( \\frac{P_0 N}{h \\nu} \\right)\n",
        "e^{-\\frac{(x - x_0)^2}{\\delta(x - x_0)}}\n",
        "e^{-\\frac{(t - t_0)^2}{\\delta(t - t_0)}}\n",
        "$$\n",
        "\n",
        "Resulting in the equations below.\n",
        "For electrons:\n",
        "$$\n",
        "\\frac{\\partial^(\\left( \\frac{P_0 N}{h \\nu} \\right)\n",
        "e^{-\\frac{(x - x_0)^2}{\\delta(x - x_0)}}\n",
        "e^{-\\frac{(t - t_0)^2}{\\delta(t - t_0)}})}{\\partial x^{2}}-\\left( \\frac{\\nu_{n}}{D_{n}}\\right)\\frac{\\partial \\left( \\frac{P_0 N}{h \\nu} \\right)\n",
        "e^{-\\frac{(x - x_0)^2}{\\delta(x - x_0)}}\n",
        "e^{-\\frac{(t - t_0)^2}{\\delta(t - t_0)}})}{\\partial x}+\\frac{1}{D_{n}}\\frac{\\partial (\\left( \\frac{P_0 N}{h \\nu} \\right)\n",
        "e^{-\\frac{(x - x_0)^2}{\\delta(x - x_0)}}\n",
        "e^{-\\frac{(t - t_0)^2}{\\delta(t - t_0)}})}{\\partial t}+\\frac{1}{\\tau_{n}D_{n}}(\\left( \\frac{P_0 N}{h \\nu} \\right)\n",
        "e^{-\\frac{(x - x_0)^2}{\\delta(x - x_0)}}\n",
        "e^{-\\frac{(t - t_0)^2}{\\delta(t - t_0)}})=\\frac{1}{Dn}\\delta(x-x_{0})\\delta(t-t_{0})\n",
        "$$\n",
        "\n",
        "For holes:\n",
        "$$\n",
        "\\frac{\\partial^(\\left( \\frac{P_0 N}{h \\nu} \\right)\n",
        "e^{-\\frac{(x - x_0)^2}{\\delta(x - x_0)}}\n",
        "e^{-\\frac{(t - t_0)^2}{\\delta(t - t_0)}})}{\\partial x^{2}}-\\left( \\frac{\\nu_{n}}{D_{n}}\\right)\\frac{\\partial \\left( \\frac{P_0 N}{h \\nu} \\right)\n",
        "e^{-\\frac{(x - x_0)^2}{\\delta(x - x_0)}}\n",
        "e^{-\\frac{(t - t_0)^2}{\\delta(t - t_0)}})}{\\partial x}+\\frac{1}{D_{n}}\\frac{\\partial (\\left( \\frac{P_0 N}{h \\nu} \\right)\n",
        "e^{-\\frac{(x - x_0)^2}{\\delta(x - x_0)}}\n",
        "e^{-\\frac{(t - t_0)^2}{\\delta(t - t_0)}})}{\\partial t}+\\frac{1}{\\tau_{n}D_{n}}(\\left( \\frac{P_0 N}{h \\nu} \\right)\n",
        "e^{-\\frac{(x - x_0)^2}{\\delta(x - x_0)}}\n",
        "e^{-\\frac{(t - t_0)^2}{\\delta(t - t_0)}})=\\frac{1}{Dn}\\delta(x-x_{0})\\delta(t-t_{0})\n",
        "$$\n",
        "\n",
        "From here, we can define constants:\n",
        "$$\n",
        "A = e^{-\\frac{(t - t_0)^2}{\\delta(t - t_0)}}\\\\\n",
        "B =   e^{-\\frac{(x - x_0)^2}{\\delta(x - x_0)}}\\\\\n",
        "C = {\\frac{P_0 N}{h \\nu}}\n",
        "$$\n",
        "\n",
        "Rewriting the equation, just focusing on the electron equation for now:\n",
        "$$\n",
        "A*C \\frac{\\partial^(\n",
        "e^{-\\frac{(x - x_0)^2}{\\delta(x - x_0)}}\n",
        ")}{\\partial x^{2}}-\\left( \\frac{\\nu_{n}}{D_{n}}*A*C\\right)\\frac{\\partial(\n",
        "e^{-\\frac{(x - x_0)^2}{\\delta(x - x_0)}}\n",
        ")}{\\partial x}+\\frac{1}{D_{n}} *A*C\\frac{\\partial (\n",
        "e^{-\\frac{(x - x_0)^2}{\\delta(x - x_0)}}\n",
        ")}{\\partial t}+\\frac{1}{\\tau_{n}D_{n}}*A*C\n",
        "e^{-\\frac{(x - x_0)^2}{\\delta(x - x_0)}}\n",
        ")=\\frac{1}{Dn}\\delta(x-x_{0})\\delta(t-t_{0})\n",
        "$$\n",
        "\n",
        "Breaking the equation into chunks, we take advantage of the linearity property of the Fourier transform.\n",
        "# Fourier Transform\n",
        "$$\n",
        "\\mathcal{F} \\left[ C \\cdot A \\cdot \\frac{\\partial^2 B}{\\partial x^2} \\right]\n",
        "$$\n",
        "We can then bring out the constants A and C, and take the fourier transform of B using the law of exponents.\n",
        "\n",
        "$$\n",
        "C \\cdot A \\cdot \\mathcal{F} \\left[ \\frac{\\partial^2}{\\partial x^2}\n",
        "\\left( e^{-\\frac{2(x - x_0)}{\\delta(x - x_0)}} \\right) \\right]\n",
        "$$\n",
        "\n",
        "Defining a new constant, expanding the exponent and then taking the Fourier transform of the first section yields:\n",
        "$$\n",
        "d = {\\frac{2}{\\delta(x-x_0)}}\n",
        "\\\\\n",
        "C \\cdot A \\cdot e^{dx_0} \\cdot \\mathcal{F} \\left[ \\frac{\\partial^2}{\\partial x^2}\n",
        "\\left( e^{-dx} \\right) \\right]\n",
        "\\\\\n",
        "C \\cdot A \\cdot e^{dx_0} \\cdot [(jw)^2 \\cdot \\frac{2d}{d^2+ω^2}]\n",
        "$$\n",
        "\n",
        "Continuing the Fourier for the following sections and plugging them all together:\n",
        "\n",
        "$$\n",
        "\\\\\n",
        "C \\cdot \\left( \\frac{2d}{d^2 + \\omega^2} \\right) \\cdot A \\cdot \\left(\n",
        "e^{d x_0} (j \\omega)^2\n",
        "- \\frac{v_n}{D_n} (j \\omega)\n",
        "+ \\frac{1}{D_n} \\frac{\\partial}{\\partial t}\n",
        "+ \\frac{1}{\\tau_n D_n}\n",
        "\\right)\n",
        "= \\frac{1}{D_n} e^{-j \\omega x_0} \\delta(t - t_0)\n",
        "$$"
      ],
      "metadata": {
        "id": "R1TLvunb8P7p"
      }
    },
    {
      "cell_type": "markdown",
      "source": [
        "\n",
        "# Laplace Transform\n",
        "Once the Fourier Transform was obtained for both equations, the Laplace Transform was taken to get Gn(k,s) and Gp(k,s).\n",
        "\n",
        "$$\n",
        "\\\\\n",
        "G_n(j \\omega, s) = \\frac{\n",
        "\\frac{1}{D_n*\\sqrt{2\\pi}} e^{-j \\omega x_0}}{\n",
        "\\cdot \\left(e^{d x_0} (j \\omega)^2\n",
        "- \\frac{v_n}{D_n} (j \\omega)\n",
        "+ \\frac{s}{D_n}\n",
        "+ \\frac{1}{\\tau_n D_n}\n",
        "\\right)}\n",
        "$$\n",
        "\\\n",
        "$$\n",
        "\\\\\n",
        "G_p(j \\omega, s) = \\frac{\n",
        "\\frac{1}{D_p} e^{-j \\omega x_0}}{\n",
        "\\cdot \\left(e^{d x_0} (j \\omega)^2\n",
        "- \\frac{v_p}{D_p} (j \\omega)\n",
        "+ \\frac{s}{D_p}\n",
        "+ \\frac{1}{\\tau_p D_p}\n",
        "\\right)}\n",
        "$$\n",
        "\n",
        "The following expressions can be simplified by multiplying the denominator by $D_n$ and $D_p$ respectivly as well as $\\frac{1}{\\sqrt{2\\pi}}$\n",
        "\\\n",
        "$$\n",
        "G_n(k, s) = \\frac{1}{\\sqrt{2\\pi}} * \\frac{\n",
        "e^{-j \\omega x_0}}{\n",
        "\\cdot \\left(D_n(k)^2\n",
        "- v_n (k)\n",
        "+ s\n",
        "+ \\frac{1}{\\tau_n}\n",
        "\\right)}\n",
        "$$\n",
        "\\\n",
        "$$\n",
        "G_p(k, s) = \\frac{1}{\\sqrt{2\\pi}} * \\frac{\n",
        "e^{-j \\omega x_0}}{\n",
        "\\cdot \\left(D_p(k)^2\n",
        "- v_n (k)\n",
        "+ s\n",
        "+ \\frac{1}{\\tau_n}\n",
        "\\right)}\n",
        "$$"
      ],
      "metadata": {
        "id": "_cS67G5pU2Cx"
      }
    },
    {
      "cell_type": "markdown",
      "source": [
        "# After Inverse Fourier, Applying Inverse Laplace\n",
        "After applying the inverse Fourier, we end up with the following expressions:\n",
        "\n",
        "\\begin{align}\n",
        "G_n(k,s) &= \\frac{1}{\\sqrt{2\\pi}}\\;\\frac{e^{ikx_0}}{D_n k^2 - i k \\nu_n + \\frac{1}{\\tau_n} + s}, \\\\[1ex]\n",
        "G_p(k,s) &= \\frac{1}{\\sqrt{2\\pi}}\\;\\frac{e^{ikx_0}}{D_p k^2 + i k \\nu_p + \\frac{1}{\\tau_p} + s}.\n",
        "\\end{align}\n",
        "\n",
        "\n"
      ],
      "metadata": {
        "id": "gMjaYsG89DGS"
      }
    },
    {
      "cell_type": "markdown",
      "source": [
        "We now desire to convert from s-space to time (t) domain. This can be done using the inverse Laplace:\n",
        "\n",
        "Define\n",
        "\n",
        "$$\n",
        "a \\;=\\; D_p\\,k^2 \\;+\\; i\\,k\\,V_p \\;+\\; \\frac1{\\tau_p}\\,.\n",
        "$$\n",
        "\n",
        "Since\n",
        "\n",
        "$$\n",
        "\\mathcal{L}^{-1}\\Bigl\\{\\frac1{s+a}\\Bigr\\}(t)=e^{-a t}\\,,\n",
        "$$\n",
        "\n",
        "we get\n",
        "\n",
        "$$\n",
        "\\mathcal{L}^{-1}\\{G_p(k,s)\\}(t)\n",
        "=\\frac{1}{\\sqrt{2\\pi}}\\;e^{ikx_0}\\;\\mathcal{L}^{-1}\\Bigl\\{\\frac1{s+a}\\Bigr\\}(t)\n",
        "=\\frac{1}{\\sqrt{2\\pi}}\\,e^{ikx_0}\\,e^{-a\\,t}\\,.\n",
        "$$\n",
        "<!--\n",
        "\n",
        "Or explicitly,\n",
        "$$\n",
        "g_p(k,t)\n",
        "=\\frac{1}{\\sqrt{2\\pi}}\\;e^{ikx_0}\\,\n",
        "\\exp\\!\\Bigl[-\\bigl(D_p k^2 + i k V_p + \\tau_p^{-1}\\bigr)\\,t\\Bigr].\n",
        "$$ -->\n",
        "\n",
        "\n",
        "\n",
        "\n",
        "\n",
        "\n",
        "\n",
        "\n",
        "\n",
        "\n",
        "\n",
        "\n",
        "\n",
        "\n",
        "\n",
        "\n"
      ],
      "metadata": {
        "id": "DPopppKQ-NBd"
      }
    },
    {
      "cell_type": "markdown",
      "source": [
        "Define  \n",
        "$$\n",
        "\\alpha(t) = \\frac{1}{2\\pi} \\frac{e^{-t/\\tau_p}}{\\sqrt{2\\pi}}.\n",
        "$$\n",
        "\n",
        "Then  \n",
        "$$\n",
        "g(x,t)\n",
        "= \\alpha(t)\n",
        "  \\int_{-\\infty}^{\\infty}\n",
        "    \\exp\\bigl[i k x_0 - D_p\\,k^2\\,t - i\\,k\\,\\nu_p\\,t\\bigr]\n",
        "    e^{i k x}\\,dk\n",
        "= \\alpha(t)\n",
        "  \\int_{-\\infty}^{\\infty}\n",
        "    \\exp\\bigl[-D_p\\,t\\,k^2 + k\\,i(\\nu_p\\,t - x - x_0)\\bigr]\n",
        "    \\,dk.\n",
        "$$\n",
        "\n",
        "# Completing the Square\n",
        "To complete the square in the exponent, define $ A, B , C $:\n",
        "$$\n",
        "A = D_p\\,t\n",
        "$$\n",
        "\n",
        "$$\n",
        "B = i(\\nu_p\\,t - x - x_0)\n",
        "$$\n",
        "\n",
        "$$\n",
        "C = 0\n",
        "$$\n",
        "\n",
        "so that  \n",
        "$$\n",
        "-D_p\\,t\\,k^2 + k\\,i(\\nu_p\\,t - x - x_0)\n",
        "= -\\bigl(A\\,k^2 + B\\,k + C\\bigr).\n",
        "$$\n",
        "<!--\n",
        "Shift the integration variable:  \n",
        "$$\n",
        "k \\;\\mapsto\\; k + \\frac{B}{2A},\n",
        "$$\n",
        "\n",
        "which gives  \n",
        "$$\n",
        "-(A\\,k^2 + B\\,k)\n",
        "= -A\\Bigl(k + \\frac{B}{2A}\\Bigr)^2 + \\frac{B^2}{4A}.\n",
        "$$\n",
        "\n",
        "Finally evaluate the resulting Gaussian integral in closed form. -->\n",
        "\n",
        "\n",
        "\n"
      ],
      "metadata": {
        "id": "js8PFZ1TGUJd"
      }
    },
    {
      "cell_type": "markdown",
      "source": [
        "Plugging into our expression above, we achieve:\n",
        "<!--\n",
        "Using the definitions above, the integral can be written as: -->\n",
        "\n",
        "$$\n",
        "g(x,t)\n",
        "= \\alpha(t)\\,\n",
        "  \\int_{-\\infty}^{\\infty}\n",
        "    \\exp\\!\\bigl[-\\bigl(A\\,k^2 + B\\,k\\bigr)\\bigr]\\,\n",
        "  dk.\n",
        "$$\n",
        "\n",
        "where  \n",
        "$$\n",
        "\\alpha(t) = \\frac{e^{-t/\\tau_p}}{\\sqrt{2\\pi}},\\quad\n",
        "A = D_p\\,t,\\quad\n",
        "B = i(\\nu_p\\,t - x - x_0).\n",
        "$$  \n"
      ],
      "metadata": {
        "id": "4OayxKP8JVN7"
      }
    },
    {
      "cell_type": "markdown",
      "source": [
        "The definition of \"completing the square\", or standard Gaussian‐integral result is:\n",
        "\n",
        "$$\n",
        "\\int_{-\\infty}^{\\infty}\n",
        "e^{-\\bigl(a x^2 + b x + c\\bigr)}\\,dx\n",
        "\\;=\\;\n",
        "\\sqrt{\\frac{\\pi}{a}}\\;\n",
        "\\exp\\!\\Bigl(\\frac{b^2}{4a}-c\\Bigr),\n",
        "\\quad \\Re(a)>0.\n",
        "$$\n",
        "\n",
        "<!--\n",
        "This is achieved by completing the square:\n",
        "\n",
        "$$\n",
        "\\[\n",
        "-(a x^2 + b x + c)\n",
        "= -a\\Bigl(x+\\frac{b}{2a}\\Bigr)^2 \\;+\\;\\frac{b^2}{4a}-c,\n",
        "\\]\n",
        "$$ -->\n",
        "\n",
        "<!--\n",
        "then use\n",
        "$$\n",
        "\\(\\int e^{-a u^2}du=\\sqrt{\\pi/a}\\).\n",
        "$$ -->"
      ],
      "metadata": {
        "id": "3NK42hK0JV5i"
      }
    },
    {
      "cell_type": "markdown",
      "source": [
        "Plugging in all expressions for $A B, C$ and $\\alpha(t)$ and expanding results in:"
      ],
      "metadata": {
        "id": "6Drz0wDGJ0W6"
      }
    },
    {
      "cell_type": "markdown",
      "source": [
        "<!-- These four forms are just two pairs of equivalent expressions for \\(G_n\\) and \\(G_p\\).  We can drop the duplicates and write the compact versions (using \\(\\nu\\) instead of \\(V\\) and no asterisks): -->\n",
        "\n",
        "$$\n",
        "G_n(x,t)\n",
        "= \\frac{1}{2\\pi\\sqrt{2\\,D_n\\,t}}\n",
        "  \\exp\\!\\Bigl(-\\frac{(x - x_0 - \\nu_n\\,t)^{2} + \\tfrac{t}{\\tau_n}}{4\\,D_n\\,t}\\Bigr),\n",
        "$$\n",
        "\n",
        "$$\n",
        "G_p(x,t)\n",
        "= \\frac{1}{2\\pi\\sqrt{2\\,D_p\\,t}}\n",
        "  \\exp\\!\\Bigl(-\\frac{(x - x_0 + \\nu_p\\,t)^{2} + \\tfrac{t}{\\tau_p}}{4\\,D_p\\,t}\\Bigr).\n",
        "$$\n",
        "\n",
        "\n",
        "\n",
        "<!-- $$\n",
        "G_n(x,t) =  \\frac{1}{2\\pi}e^{\\frac{t}{τ_n}} * \\sqrt{\\frac{\\pi}{D_n*t*2*π}}e^{\\frac{-(V_n*t - x -x_0)^2}{4D_n*t}}\n",
        "$$\n",
        "\n",
        "\n",
        "$$\n",
        "G_p(x,t) =  \\frac{1}{2\\pi}e^{\\frac{t}{τ_p}} * \\sqrt{\\frac{\\pi}{D_p*t*2*π}}e^{\\frac{-(V_p*t - x -x_0)^2}{4D_p*t}}\n",
        "$$\n",
        "\n",
        "\n",
        "\n",
        "$$\n",
        "G_n(x,t) =  \\frac{1}{2\\pi\\sqrt{2*D_n*t}} * e^{\\frac{-(V_n*t - x -x_0)^2-\\frac{t}{τ_n}}{4D_n*t}}\n",
        "$$\n",
        "\n",
        "\n",
        "$$\n",
        "G_p(x,t) =  \\frac{1}{2\\pi\\sqrt{2*D_p*t}} * e^{\\frac{-(V_p*t - x -x_0)^2-\\frac{t}{τ_p}}{4D_p*t}}\n",
        "$$\n",
        " -->\n"
      ],
      "metadata": {
        "id": "FnEaNRM4HjOR"
      }
    },
    {
      "cell_type": "markdown",
      "source": [
        "---"
      ],
      "metadata": {
        "id": "VJZv4tHxKG-a"
      }
    },
    {
      "cell_type": "markdown",
      "source": [
        "# Final Integration\n",
        "\n",
        "In this step, we must integrate the generation terms, the result of the above, with the Source term, defined the same for holes and electrons as:\n",
        "$$\n",
        "S_p = S_n = \\frac{P_0\\,\\eta}{h\\nu}\n",
        "\\exp\\!\\Bigl[-\\frac{(x - x_0)^2}{\\sigma_x^2}\\Bigr]\n",
        "\\exp\\!\\Bigl[-\\frac{(t - t_0)^2}{\\sigma_t^2}\\Bigr].\n",
        "$$\n",
        "\n",
        "In fact, delta function results in the exponents in the Source term going to unity. This will be seen shortly.\n",
        "\n",
        "\n",
        "From the above, we can reorganize the generation terms as:\n",
        "$$\n",
        "G_n(x,t)\n",
        "= e^{-t/\\tau_n}\n",
        "\\sqrt{\\frac{1}{4\\pi\\,D_n\\,t}}\n",
        "\\exp\\!\\Bigl[-\\,\\frac{\\bigl(x - x_0 - \\nu_n\\,t\\bigr)^2}{4\\,D_n\\,t}\\Bigr],\n",
        "$$\n",
        "\n",
        "$$\n",
        "G_p(x,t)\n",
        "= e^{-t/\\tau_p}\n",
        "\\sqrt{\\frac{1}{4\\pi\\,D_p\\,t}}\n",
        "\\exp\\!\\Bigl[-\\,\\frac{\\bigl(x - x_0 + \\nu_p\\,t\\bigr)^2}{4\\,D_p\\,t}\\Bigr].\n",
        "$$\n",
        "\n"
      ],
      "metadata": {
        "id": "BwaHeKFifGU9"
      }
    },
    {
      "cell_type": "markdown",
      "source": [
        "\n",
        "The relevant delta function property is:\n",
        "\n",
        "**Delta‐function property**  \n",
        "$$\n",
        "\\int_{-\\infty}^{\\infty} f(x)\\,\\delta(x - a)\\,dx = f(a).\n",
        "$$\n"
      ],
      "metadata": {
        "id": "8DGWJxwnfJiW"
      }
    },
    {
      "cell_type": "markdown",
      "source": [
        "Starting with the integration of $G_n$, which results in our expression for electron concentration as a function of space and time $n(x,t)$:\n",
        "\n",
        "$$\n",
        "n(x,t) \\;=\\; \\int G{n}(x,t)\\,S_{n}\\,dx \\;=\\;\\dots\n",
        "$$\n"
      ],
      "metadata": {
        "id": "kOsI6ahXfNYQ"
      }
    },
    {
      "cell_type": "markdown",
      "source": [
        "Within the integral, we have:\n",
        "\n",
        "$$\n",
        "G_n(x,t)\\,S_n(x,t)\n",
        "= e^{-t/\\tau_n}\\,\\sqrt{\\frac{1}{4\\pi\\,D_n\\,t}}\\;\\frac{P_0\\,\\eta}{h\\nu}\n",
        "\\;\\exp\\!\\Bigl[-\\frac{(x - x_0 - \\nu_n\\,t)^2}{4\\,D_n\\,t}\\Bigr]\n",
        "\\;\\exp\\!\\Bigl[-\\frac{(x - x_0)^2}{\\sigma_x^2}\\Bigr]\n",
        "\\;\\exp\\!\\Bigl[-\\frac{(t - t_0)^2}{\\sigma_t^2}\\Bigr].\n",
        "$$\n"
      ],
      "metadata": {
        "id": "74_SZD7BfPCi"
      }
    },
    {
      "cell_type": "markdown",
      "source": [
        "However, latter two exponents drop out, because of the delta function property; if one inputs $x_0$ and $t_0$, these terms both become $exp(0)$ which goes to $1$.\n",
        "\n",
        "Therefore, the product of $G_n(x,t)$ and $S_n(x,t)$ becomes:\n",
        "$$\n",
        "G_n(x,t)\\,S_n(x,t)\n",
        "= e^{-t/\\tau_n}\\,\\sqrt{\\frac{1}{4\\pi\\,D_n\\,t}}\\;\\frac{P_0\\,\\eta}{h\\nu}\n",
        "\\;\\exp\\!\\Bigl[-\\frac{(x - x_0 - \\nu_n\\,t)^2}{4\\,D_n\\,t}\\Bigr]\n",
        "$$\n",
        "\n"
      ],
      "metadata": {
        "id": "DTj0nTb3fRFX"
      }
    },
    {
      "cell_type": "markdown",
      "source": [
        "The overall integral becomes:\n",
        "\n",
        "$$\n",
        "n(x,t)\n",
        "= \\int G_n(x,t)\\,S_n(x,t)\\,dx\n",
        "= \\int\n",
        "e^{-t/\\tau_n}\\,\\sqrt{\\frac{1}{4\\pi\\,D_n\\,t}}\\;\\frac{P_0\\,\\eta}{h\\nu}\n",
        "\\;\\exp\\!\\Bigl[-\\frac{((x - x_0) - \\nu_n\\,t)^2}{4\\,D_n\\,t}\\Bigr]\n",
        "\\,dx.\n",
        "$$"
      ],
      "metadata": {
        "id": "WJ3kyODXfSnu"
      }
    },
    {
      "cell_type": "markdown",
      "source": [
        "Define\n",
        "$$\n",
        "\\alpha \\;=\\; e^{-t/\\tau_n}\\,\n",
        "\\sqrt{\\frac{1}{4\\pi\\,D_n\\,t}}\\;\\frac{P_0\\,\\eta}{h\\nu}\\,.\n",
        "$$\n",
        "\n",
        "Then the carrier density can be written as\n",
        "$$\n",
        "n(x,t)\n",
        "= \\int_{x}^{\\infty}G_n(x,t)\\,S_n(x)\\,dx\n",
        "= \\alpha\n",
        "\\int_{x}^{\\infty}\n",
        "\\exp\\!\\Bigl[-\\frac{((x - x_0) - \\nu_n t)^2}{4\\,D_n\\,t}\\Bigr]\n",
        "\\,dx\\,.\n",
        "$$\n",
        "\n",
        "Where $x$ and $∞$ are defined as the bounds of a carrier; i.e. one can calculate the concentration from $x_0$ up to infinitely far from the $x_0$ location."
      ],
      "metadata": {
        "id": "HnIXAmxvfUne"
      }
    },
    {
      "cell_type": "markdown",
      "source": [
        "With this result, we now apply the power of a power rule, yielding:\n",
        "\n",
        "\n",
        "Then the carrier density can be written as\n",
        "$$\n",
        "= \\alpha\n",
        "\\int_{x}^{\\infty}\n",
        "\\exp\\!\\Bigl[-\\frac{2((x - x_0)- \\nu_n t)}{4\\,D_n\\,t}\\Bigr]\n",
        "\\,dx\\,.\n",
        "$$\n"
      ],
      "metadata": {
        "id": "K9CaH_HIfZGH"
      }
    },
    {
      "cell_type": "markdown",
      "source": [
        "We can pull out the $\\nu_n\\ t$ term, finally giving:\n",
        "\n",
        "$$\n",
        "= \\alpha \\exp(\\frac{2\\nu t}{4D_{n}t})\n",
        "\\int_{x}^{\\infty}\n",
        "\\exp\\!\\Bigl[-\\frac{2(x - x_0)}{4\\,D_n\\,t}\\Bigr]\n",
        "\\,dx\\,.\n",
        "$$"
      ],
      "metadata": {
        "id": "E884otf5fa-S"
      }
    },
    {
      "cell_type": "markdown",
      "source": [
        "This integral can be solved with u-substitution. Where\n",
        "$$\n",
        "u = \\frac{-2(x-x_{0})}{4D_{n}t}\n",
        "$$\n",
        "and\n",
        "$$\n",
        "du = -\\frac{2}{4D_{n}t}dx\n",
        "$$\n",
        "\n",
        "And bounds are appropriately shifted:\n",
        "\n",
        "$$\n",
        "u(\\infty) \\;=\\; -\\frac{2(\\infty - x_0)}{4D_n t}\n",
        "\\;\\Longrightarrow\\;\n",
        "-\\infty \\;=\\; B\n",
        "$$\n",
        "\n",
        "$$\n",
        "u(x) \\;=\\; -\\frac{2(x - x_0)}{4D_n t}\n",
        "\\;=\\; A\n",
        "$$\n"
      ],
      "metadata": {
        "id": "sgyfEZdvfdJG"
      }
    },
    {
      "cell_type": "markdown",
      "source": [
        "$$\n",
        "= \\alpha \\,\n",
        "  \\exp\\!\\Bigl(\\frac{2\\,\\nu_n\\,t}{4\\,D_n\\,t}\\Bigr)\n",
        "  \\int_{A}^{B} e^{\\,u}\\,du\n",
        "$$\n",
        "<!--\n",
        "where  \n",
        "$$\n",
        "u = -\\frac{2(x' - x_0)}{4\\,D_n\\,t},\\quad\n",
        "A = u\\bigl|_{x'=x},\\quad\n",
        "B = u\\bigl|_{x'\\to\\infty}.\n",
        "$$   -->\n"
      ],
      "metadata": {
        "id": "OTOdEkYcffbl"
      }
    },
    {
      "cell_type": "markdown",
      "source": [
        "# EXPRESSIONS FOR $n(x,t)$ and $p(x,t)$\n",
        "Evaluating this integral and applying the power of a power rule again, we arrive at our final answer.\n",
        "\n",
        "$$\n",
        "n(x,t)\n",
        "= \\frac{P_{0}\\,\\eta}{h\\nu}\n",
        "  \\;e^{-t/\\tau_{n}}\n",
        "  \\;\\sqrt{\\frac{1}{4\\pi\\,D_{n}\\,t}}\n",
        "  \\;\\exp\\!\\Bigl[-\\frac{\\bigl((x - x_{0}) + \\nu_{n}\\,t\\bigr)^{2}}{4\\,D_{n}\\,t}\\Bigr].\n",
        "$$\n",
        "\n",
        "Similarly for holes:\n",
        "\n",
        "$$\n",
        "p(x,t)\n",
        "= \\frac{P_{0}\\,\\eta}{h\\nu}\n",
        "  \\;e^{-t/\\tau_{p}}\n",
        "  \\;\\sqrt{\\frac{1}{4\\pi\\,D_{p}\\,t}}\n",
        "  \\;\\exp\\!\\Bigl[-\\frac{\\bigl((x - x_{0}) - \\nu_{p}\\,t\\bigr)^{2}}{4\\,D_{p}\\,t}\\Bigr].\n",
        "$$\n",
        "\n"
      ],
      "metadata": {
        "id": "QcSM7x1ifg5q"
      }
    },
    {
      "cell_type": "markdown",
      "source": [
        "## Partial Derivatives of \\(n(x,t)\\) and \\(p(x,t)\\)\n",
        "\n",
        "After a **trivial** derivation involving the chain rulein \\(x\\), we find:\n",
        "\n",
        "$$\n",
        "\\frac{\\partial n(x,t)}{\\partial x}\n",
        "= -\\frac{P_{0}\\,\\eta}{h\\nu}\n",
        "  \\;e^{-t/\\tau_{n}}\n",
        "  \\;\\sqrt{\\frac{1}{4\\pi\\,D_{n}\\,t}}\n",
        "  \\;\\frac{x - x_{0} + \\nu_{n}\\,t}{2\\,D_{n}\\,t}\n",
        "  \\;\\exp\\!\\Bigl[-\\frac{\\bigl((x - x_{0}) + \\nu_{n}\\,t\\bigr)^{2}}{4\\,D_{n}\\,t}\\Bigr].\n",
        "$$\n",
        "\n",
        "Similarly for holes,\n",
        "\n",
        "$$\n",
        "\\frac{\\partial p(x,t)}{\\partial x}\n",
        "= -\\frac{P_{0}\\,\\eta}{h\\nu}\n",
        "  \\;e^{-t/\\tau_{p}}\n",
        "  \\;\\sqrt{\\frac{1}{4\\pi\\,D_{p}\\,t}}\n",
        "  \\;\\frac{x - x_{0} - \\nu_{p}\\,t}{2\\,D_{p}\\,t}\n",
        "  \\;\\exp\\!\\Bigl[-\\frac{\\bigl((x - x_{0}) - \\nu_{p}\\,t\\bigr)^{2}}{4\\,D_{p}\\,t}\\Bigr].\n",
        "$$\n"
      ],
      "metadata": {
        "id": "rZ7wrKEiOtJe"
      }
    },
    {
      "cell_type": "markdown",
      "source": [
        "<!-- # DEPRECATED\n",
        "\n",
        "\n",
        "\n",
        "$$\n",
        "n(x,t) = e^{\\frac{t}{τ_n}} \\sqrt{\\frac{1}{4\\pi D_nt}}*e^{\\frac{-(V_n*t - x -x_0)^2}{4D_n*t}}\n",
        "$$\n",
        "\n",
        "$$\n",
        "p(x,t) = e^{\\frac{t}{τ_p}} \\sqrt{\\frac{1}{4\\pi D_pt}}*e^{\\frac{-(V_p*t - x -x_0)^2}{4D_p*t}}\n",
        "$$\n",
        " -->\n"
      ],
      "metadata": {
        "id": "QcjbEl7gLUtp"
      }
    }
  ]
}